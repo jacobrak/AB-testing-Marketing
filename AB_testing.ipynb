{
 "cells": [
  {
   "cell_type": "code",
   "execution_count": 2,
   "metadata": {},
   "outputs": [],
   "source": [
    "import pandas as pd"
   ]
  },
  {
   "cell_type": "code",
   "execution_count": 3,
   "metadata": {},
   "outputs": [],
   "source": [
    "data = pd.read_csv(\"WA_Marketing-Campaign.csv\")"
   ]
  },
  {
   "cell_type": "code",
   "execution_count": 4,
   "metadata": {},
   "outputs": [
    {
     "data": {
      "text/html": [
       "<div>\n",
       "<style scoped>\n",
       "    .dataframe tbody tr th:only-of-type {\n",
       "        vertical-align: middle;\n",
       "    }\n",
       "\n",
       "    .dataframe tbody tr th {\n",
       "        vertical-align: top;\n",
       "    }\n",
       "\n",
       "    .dataframe thead th {\n",
       "        text-align: right;\n",
       "    }\n",
       "</style>\n",
       "<table border=\"1\" class=\"dataframe\">\n",
       "  <thead>\n",
       "    <tr style=\"text-align: right;\">\n",
       "      <th></th>\n",
       "      <th>MarketID</th>\n",
       "      <th>LocationID</th>\n",
       "      <th>AgeOfStore</th>\n",
       "      <th>Promotion</th>\n",
       "      <th>week</th>\n",
       "      <th>SalesInThousands</th>\n",
       "    </tr>\n",
       "  </thead>\n",
       "  <tbody>\n",
       "    <tr>\n",
       "      <th>count</th>\n",
       "      <td>548.000000</td>\n",
       "      <td>548.000000</td>\n",
       "      <td>548.000000</td>\n",
       "      <td>548.000000</td>\n",
       "      <td>548.000000</td>\n",
       "      <td>548.000000</td>\n",
       "    </tr>\n",
       "    <tr>\n",
       "      <th>mean</th>\n",
       "      <td>5.715328</td>\n",
       "      <td>479.656934</td>\n",
       "      <td>8.503650</td>\n",
       "      <td>2.029197</td>\n",
       "      <td>2.500000</td>\n",
       "      <td>53.466204</td>\n",
       "    </tr>\n",
       "    <tr>\n",
       "      <th>std</th>\n",
       "      <td>2.877001</td>\n",
       "      <td>287.973679</td>\n",
       "      <td>6.638345</td>\n",
       "      <td>0.810729</td>\n",
       "      <td>1.119055</td>\n",
       "      <td>16.755216</td>\n",
       "    </tr>\n",
       "    <tr>\n",
       "      <th>min</th>\n",
       "      <td>1.000000</td>\n",
       "      <td>1.000000</td>\n",
       "      <td>1.000000</td>\n",
       "      <td>1.000000</td>\n",
       "      <td>1.000000</td>\n",
       "      <td>17.340000</td>\n",
       "    </tr>\n",
       "    <tr>\n",
       "      <th>25%</th>\n",
       "      <td>3.000000</td>\n",
       "      <td>216.000000</td>\n",
       "      <td>4.000000</td>\n",
       "      <td>1.000000</td>\n",
       "      <td>1.750000</td>\n",
       "      <td>42.545000</td>\n",
       "    </tr>\n",
       "    <tr>\n",
       "      <th>50%</th>\n",
       "      <td>6.000000</td>\n",
       "      <td>504.000000</td>\n",
       "      <td>7.000000</td>\n",
       "      <td>2.000000</td>\n",
       "      <td>2.500000</td>\n",
       "      <td>50.200000</td>\n",
       "    </tr>\n",
       "    <tr>\n",
       "      <th>75%</th>\n",
       "      <td>8.000000</td>\n",
       "      <td>708.000000</td>\n",
       "      <td>12.000000</td>\n",
       "      <td>3.000000</td>\n",
       "      <td>3.250000</td>\n",
       "      <td>60.477500</td>\n",
       "    </tr>\n",
       "    <tr>\n",
       "      <th>max</th>\n",
       "      <td>10.000000</td>\n",
       "      <td>920.000000</td>\n",
       "      <td>28.000000</td>\n",
       "      <td>3.000000</td>\n",
       "      <td>4.000000</td>\n",
       "      <td>99.650000</td>\n",
       "    </tr>\n",
       "  </tbody>\n",
       "</table>\n",
       "</div>"
      ],
      "text/plain": [
       "         MarketID  LocationID  AgeOfStore   Promotion        week  \\\n",
       "count  548.000000  548.000000  548.000000  548.000000  548.000000   \n",
       "mean     5.715328  479.656934    8.503650    2.029197    2.500000   \n",
       "std      2.877001  287.973679    6.638345    0.810729    1.119055   \n",
       "min      1.000000    1.000000    1.000000    1.000000    1.000000   \n",
       "25%      3.000000  216.000000    4.000000    1.000000    1.750000   \n",
       "50%      6.000000  504.000000    7.000000    2.000000    2.500000   \n",
       "75%      8.000000  708.000000   12.000000    3.000000    3.250000   \n",
       "max     10.000000  920.000000   28.000000    3.000000    4.000000   \n",
       "\n",
       "       SalesInThousands  \n",
       "count        548.000000  \n",
       "mean          53.466204  \n",
       "std           16.755216  \n",
       "min           17.340000  \n",
       "25%           42.545000  \n",
       "50%           50.200000  \n",
       "75%           60.477500  \n",
       "max           99.650000  "
      ]
     },
     "execution_count": 4,
     "metadata": {},
     "output_type": "execute_result"
    }
   ],
   "source": [
    "data.describe()"
   ]
  },
  {
   "cell_type": "code",
   "execution_count": 5,
   "metadata": {},
   "outputs": [
    {
     "data": {
      "text/plain": [
       "MarketID            False\n",
       "MarketSize          False\n",
       "LocationID          False\n",
       "AgeOfStore          False\n",
       "Promotion           False\n",
       "week                False\n",
       "SalesInThousands    False\n",
       "dtype: bool"
      ]
     },
     "execution_count": 5,
     "metadata": {},
     "output_type": "execute_result"
    }
   ],
   "source": [
    "data.isna().any()"
   ]
  },
  {
   "cell_type": "markdown",
   "metadata": {},
   "source": [
    "Perfect all good!"
   ]
  },
  {
   "cell_type": "markdown",
   "metadata": {},
   "source": [
    "## Visulizations "
   ]
  },
  {
   "cell_type": "code",
   "execution_count": 6,
   "metadata": {},
   "outputs": [
    {
     "ename": "ModuleNotFoundError",
     "evalue": "No module named 'seaborn'",
     "output_type": "error",
     "traceback": [
      "\u001b[0;31m---------------------------------------------------------------------------\u001b[0m",
      "\u001b[0;31mModuleNotFoundError\u001b[0m                       Traceback (most recent call last)",
      "Cell \u001b[0;32mIn[6], line 2\u001b[0m\n\u001b[1;32m      1\u001b[0m \u001b[38;5;28;01mimport\u001b[39;00m\u001b[38;5;250m \u001b[39m\u001b[38;5;21;01mmatplotlib\u001b[39;00m\u001b[38;5;21;01m.\u001b[39;00m\u001b[38;5;21;01mpyplot\u001b[39;00m\u001b[38;5;250m \u001b[39m\u001b[38;5;28;01mas\u001b[39;00m\u001b[38;5;250m \u001b[39m\u001b[38;5;21;01mplt\u001b[39;00m\n\u001b[0;32m----> 2\u001b[0m \u001b[38;5;28;01mimport\u001b[39;00m\u001b[38;5;250m \u001b[39m\u001b[38;5;21;01mseaborn\u001b[39;00m\u001b[38;5;250m \u001b[39m\u001b[38;5;28;01mas\u001b[39;00m\u001b[38;5;250m \u001b[39m\u001b[38;5;21;01msns\u001b[39;00m\n",
      "\u001b[0;31mModuleNotFoundError\u001b[0m: No module named 'seaborn'"
     ]
    }
   ],
   "source": [
    "import matplotlib.pyplot as plt\n",
    "import seaborn as sns"
   ]
  },
  {
   "cell_type": "code",
   "execution_count": null,
   "metadata": {},
   "outputs": [],
   "source": [
    "plt.figure(figsize=(8, 5))\n",
    "sns.boxplot(x=\"Promotion\", y=\"SalesInThousands\", data=data)\n",
    "\n",
    "# Customize Plot\n",
    "plt.title(\"Sales Distribution Across Promotions\")\n",
    "plt.xlabel(\"Store Type\")\n",
    "plt.ylabel(\"Sales (in thousands)\")\n",
    "\n",
    "plt.show()\n"
   ]
  },
  {
   "cell_type": "code",
   "execution_count": null,
   "metadata": {},
   "outputs": [],
   "source": [
    "plt.figure(figsize=(8, 5))\n",
    "sns.boxplot(x=\"MarketSize\", y=\"SalesInThousands\", data=data)\n",
    "\n",
    "# Customize Plot\n",
    "plt.title(\"Sales Distribution Across Store type\")\n",
    "plt.xlabel(\"Store Type\")\n",
    "plt.ylabel(\"Sales (in thousands)\")\n",
    "\n",
    "plt.show()\n"
   ]
  },
  {
   "cell_type": "code",
   "execution_count": null,
   "metadata": {},
   "outputs": [],
   "source": [
    "plt.figure(figsize=(8, 5))\n",
    "sns.boxplot(x=\"Promotion\", y=\"SalesInThousands\", data=data)\n",
    "\n",
    "# Customize Plot\n",
    "plt.title(\"Sales Distribution Across Promotion type\")\n",
    "plt.xlabel(\"Promotion Type\")\n",
    "plt.ylabel(\"Sales (in thousands)\")\n",
    "\n",
    "plt.show()"
   ]
  },
  {
   "cell_type": "code",
   "execution_count": null,
   "metadata": {},
   "outputs": [],
   "source": [
    "data[\"Dummy medium\"] = (data[\"MarketSize\"] == \"Medium\").astype(int)\n",
    "data[\"Dummy large\"] = (data[\"MarketSize\"] == \"Large\").astype(int)\n",
    "\n",
    "plt.figure(figsize=(8, 6))\n",
    "\n",
    "sns.heatmap(data.iloc[:, 2:].corr(), annot=True, fmt=\".2f\", cmap=\"viridis\")\n",
    "# Title\n",
    "plt.title(\"Correlation Heatmap of Selected Features\")\n",
    "plt.tight_layout()\n",
    "plt.show()"
   ]
  },
  {
   "cell_type": "markdown",
   "metadata": {},
   "source": [
    "I think the obvious takeaway here is that. Both Medium and Large have an impact on SalesInThousands so let's make sure we take that into account during our AB testing"
   ]
  },
  {
   "cell_type": "code",
   "execution_count": null,
   "metadata": {},
   "outputs": [],
   "source": [
    "data[\"Promotion\"].value_counts()"
   ]
  },
  {
   "cell_type": "code",
   "execution_count": null,
   "metadata": {},
   "outputs": [],
   "source": [
    "data[\"MarketSize\"].value_counts()"
   ]
  },
  {
   "cell_type": "code",
   "execution_count": null,
   "metadata": {},
   "outputs": [],
   "source": [
    "data.groupby(\"MarketSize\")[\"Promotion\"].value_counts()"
   ]
  },
  {
   "cell_type": "markdown",
   "metadata": {},
   "source": [
    "Seems Balanced!"
   ]
  },
  {
   "cell_type": "markdown",
   "metadata": {},
   "source": [
    "## Statistics\n",
    "Before we can fully get started we need to a hypothesis\n",
    "\n",
    "Null hypothesis $H_0$ = all promotions are the same\n",
    "\n",
    "Alternativ hypothesis $H_A$ = Some promotions are better"
   ]
  },
  {
   "cell_type": "code",
   "execution_count": null,
   "metadata": {},
   "outputs": [],
   "source": [
    "from scipy import stats\n",
    "from scipy.stats import mannwhitneyu\n",
    "\n",
    "sales_promo1 = data[data[\"Promotion\"] == 1][\"SalesInThousands\"]\n",
    "sales_promo2 = data[data[\"Promotion\"] == 2][\"SalesInThousands\"]\n",
    "sales_promo3 = data[data[\"Promotion\"] == 3][\"SalesInThousands\"]"
   ]
  },
  {
   "cell_type": "code",
   "execution_count": null,
   "metadata": {},
   "outputs": [],
   "source": [
    "def ttest(data: list):\n",
    "    assert len(data) == 3 # if wrong length\n",
    "\n",
    "    dictionary = {}\n",
    "    for i in range(len(data) - 1):\n",
    "        for j in range(i + 1, len(data)):\n",
    "        \n",
    "            U1, p_value = stats.ttest_ind(data[i], data[j])\n",
    "            key = f\"Promo{i+1} vs Promo{j+1}\"  # create key\n",
    "            dictionary[key] = p_value  # Store p-value in the dictionary\n",
    "    return dictionary\n",
    "    \n",
    "biglist = (sales_promo1, sales_promo2, sales_promo3)\n",
    "results_ttest = ttest(biglist)"
   ]
  },
  {
   "cell_type": "code",
   "execution_count": null,
   "metadata": {},
   "outputs": [],
   "source": [
    "results_ttest"
   ]
  },
  {
   "cell_type": "code",
   "execution_count": null,
   "metadata": {},
   "outputs": [],
   "source": [
    "def MannwhitneyU(data: list) -> dict:\n",
    "    assert len(data) == 3 # if wrong length\n",
    "\n",
    "    dictionary = {}\n",
    "    for i in range(len(data) - 1):\n",
    "        for j in range(i + 1, len(data)):\n",
    "        \n",
    "            U1, p_value = mannwhitneyu(data[i], data[j])\n",
    "            key = f\"Promo{i+1} vs Promo{j+1}\"  # create key\n",
    "            dictionary[key] = p_value  # Store p-value in the dictionary\n",
    "\n",
    "    return dictionary\n",
    "\n",
    "biglist = (sales_promo1, sales_promo2, sales_promo3)\n",
    "results_MannwhitneyU = MannwhitneyU(biglist)"
   ]
  },
  {
   "cell_type": "code",
   "execution_count": null,
   "metadata": {},
   "outputs": [],
   "source": [
    "results_MannwhitneyU"
   ]
  },
  {
   "cell_type": "markdown",
   "metadata": {},
   "source": [
    "With the t-test we can not reject the null hypthesis that the difference between Promo1 and Promo 3\n",
    "\n",
    "With the MannwhitneyU non-parametric test we can reject the null hypothesis"
   ]
  },
  {
   "cell_type": "markdown",
   "metadata": {},
   "source": [
    "Slight issue here is that this is the birdseye view, instead let's delve into the details and see if the results are any different for store sizes"
   ]
  },
  {
   "cell_type": "code",
   "execution_count": null,
   "metadata": {},
   "outputs": [],
   "source": [
    "df_small = data[data[\"MarketSize\"] == \"Small\"]\n",
    "df_medium = data[data[\"MarketSize\"] == \"Medium\"]\n",
    "df_large = data[data[\"MarketSize\"] == \"Large\"]"
   ]
  },
  {
   "cell_type": "code",
   "execution_count": null,
   "metadata": {},
   "outputs": [],
   "source": [
    "def create_dataframe(dataframe):\n",
    "    \"\"\"Create a dataframe\"\"\"\n",
    "    dataframe1 = dataframe[dataframe[\"Promotion\"] == 1][\"SalesInThousands\"]\n",
    "    dataframe2 = dataframe[dataframe[\"Promotion\"] == 2][\"SalesInThousands\"]\n",
    "    dataframe3 = dataframe[dataframe[\"Promotion\"] == 3][\"SalesInThousands\"]\n",
    "\n",
    "    return dataframe1, dataframe2, dataframe3\n",
    "\n",
    "# Turn them into dataframes\n",
    "df_small1, df_small2, df_small3 = create_dataframe(df_small)\n",
    "df_medium1, df_medium2, df_medium3 = create_dataframe(df_medium)\n",
    "df_large1, df_large2, df_large3 = create_dataframe(df_large)\n",
    "\n",
    "# Turn them into lists\n",
    "list_small = (df_small1, df_small2, df_small3)\n",
    "list_medium = (df_medium1, df_medium2, df_medium3)\n",
    "list_large = (df_large1, df_large2, df_large3)"
   ]
  },
  {
   "cell_type": "code",
   "execution_count": null,
   "metadata": {},
   "outputs": [],
   "source": [
    "results_small1 = MannwhitneyU(list_small)\n",
    "results_small2 = ttest(list_small)\n",
    "\n",
    "results_small1, results_small2"
   ]
  },
  {
   "cell_type": "markdown",
   "metadata": {},
   "source": [
    "We cannot reject the Null hypothesis between promo 1 and promo 2 for small stores"
   ]
  },
  {
   "cell_type": "code",
   "execution_count": null,
   "metadata": {},
   "outputs": [],
   "source": [
    "results_medium = MannwhitneyU(list_medium)\n",
    "results_medium1 = ttest(list_medium)\n",
    "\n",
    "results_medium, results_medium1"
   ]
  },
  {
   "cell_type": "markdown",
   "metadata": {},
   "source": [
    "We cannot reject the Null hypothesis between promo 1 and promo 2 for small stores"
   ]
  },
  {
   "cell_type": "code",
   "execution_count": null,
   "metadata": {},
   "outputs": [],
   "source": [
    "results_large = MannwhitneyU(list_large)\n",
    "results_large1 = ttest(list_large)\n",
    "\n",
    "results_large, results_large1"
   ]
  },
  {
   "cell_type": "markdown",
   "metadata": {},
   "source": [
    "We cannot reject the Null hypothesis between promo 1 and promo 2 for small stores"
   ]
  },
  {
   "cell_type": "markdown",
   "metadata": {},
   "source": [
    "Lets try something else. "
   ]
  },
  {
   "cell_type": "code",
   "execution_count": null,
   "metadata": {},
   "outputs": [],
   "source": [
    "import os\n",
    "\n",
    "if os.path.exists(\"/.dockerenv\"):\n",
    "    print(\"✅ Jupyter is running inside Docker!\")\n",
    "else:\n",
    "    print(\"❌ Jupyter is NOT running inside Docker!\")"
   ]
  },
  {
   "cell_type": "code",
   "execution_count": null,
   "metadata": {},
   "outputs": [],
   "source": []
  }
 ],
 "metadata": {
  "kernelspec": {
   "display_name": "Python 3 (ipykernel)",
   "language": "python",
   "name": "python3"
  },
  "language_info": {
   "codemirror_mode": {
    "name": "ipython",
    "version": 3
   },
   "file_extension": ".py",
   "mimetype": "text/x-python",
   "name": "python",
   "nbconvert_exporter": "python",
   "pygments_lexer": "ipython3",
   "version": "3.8.20"
  }
 },
 "nbformat": 4,
 "nbformat_minor": 2
}
